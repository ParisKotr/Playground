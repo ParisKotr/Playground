{
 "cells": [
  {
   "cell_type": "code",
   "execution_count": 1,
   "id": "19abcc58-5f8e-4d98-beba-b9b497adac74",
   "metadata": {},
   "outputs": [],
   "source": [
    "import requests\n",
    "\n",
    "def get_character_info(name):\n",
    "    base_url = \"https://dragonball-api.com/api/characters\"\n",
    "    url = f\"{base_url}/{name}\"\n",
    "\n",
    "    response = requests.get(url)\n",
    "\n",
    "    if response.status_code == 200:\n",
    "        character_data = response.json()\n",
    "        return character_data\n",
    "    else:\n",
    "        print(\"Error:\", response.status_code)"
   ]
  },
  {
   "cell_type": "code",
   "execution_count": null,
   "id": "080a9761-4e6a-49b3-9b17-2ae023449802",
   "metadata": {},
   "outputs": [],
   "source": []
  },
  {
   "cell_type": "code",
   "execution_count": 2,
   "id": "a5ea7aac-bb8e-4340-9ed0-e1cc5fc62c9e",
   "metadata": {},
   "outputs": [],
   "source": [
    "character_name= \"34\" "
   ]
  },
  {
   "cell_type": "code",
   "execution_count": 3,
   "id": "5e97e455-6bf3-4197-aef1-a2d139626a0a",
   "metadata": {},
   "outputs": [],
   "source": [
    "character_info = get_character_info(character_name) "
   ]
  },
  {
   "cell_type": "code",
   "execution_count": 4,
   "id": "40c89afe-6bd7-490c-a155-2f22cca212c6",
   "metadata": {},
   "outputs": [
    {
     "data": {
      "text/plain": [
       "{'id': 34,\n",
       " 'name': 'Whis',\n",
       " 'ki': '15 septillion',\n",
       " 'maxKi': '110 septillion',\n",
       " 'race': 'Angel',\n",
       " 'gender': 'Male',\n",
       " 'description': 'Whis es uno de los hijos del Gran Sacerdote, hermano menor de Vados, Korn y Kus. Es el ángel guía encargado de asistir y servir como maestro al Dios de la Destrucción del Universo 7, Beerus.',\n",
       " 'image': 'https://dragonball-api.com/characters/Whis_DBS_Broly_Artwork.webp',\n",
       " 'affiliation': 'Assistant of Beerus',\n",
       " 'deletedAt': None,\n",
       " 'originPlanet': {'id': 19,\n",
       "  'name': 'Planeta de Bills ',\n",
       "  'isDestroyed': False,\n",
       "  'description': 'Planeta de Bills un cuerpo celeste ubicado dentro del mundo de los vivos del Universo 7, el cual aparece por primera vez en la película Dragon Ball Z: La Batalla de los Dioses.',\n",
       "  'image': 'https://dragonball-api.com/planetas/Templo_de_Bills2.webp',\n",
       "  'deletedAt': None},\n",
       " 'transformations': []}"
      ]
     },
     "execution_count": 4,
     "metadata": {},
     "output_type": "execute_result"
    }
   ],
   "source": [
    "get_character_info(character_name)"
   ]
  },
  {
   "cell_type": "code",
   "execution_count": null,
   "id": "01f0e3f2-1353-4681-941d-e3a512bf5154",
   "metadata": {},
   "outputs": [],
   "source": []
  },
  {
   "cell_type": "code",
   "execution_count": 5,
   "id": "ef520c55-9875-4a0a-8296-dcf9ff1552ba",
   "metadata": {},
   "outputs": [
    {
     "name": "stdout",
     "output_type": "stream",
     "text": [
      "Name Whis\n",
      "ID 34\n",
      "Ki 15 septillion\n",
      "race Angel\n",
      "originPlanet Planeta de Bills \n"
     ]
    }
   ],
   "source": [
    "if character_info:\n",
    "    print(f\"Name {character_info['name']}\")\n",
    "    print(f\"ID {character_info['id']}\")\n",
    "    print(f\"Ki {character_info['ki']}\")\n",
    "    print(f\"race {character_info['race']}\")\n",
    "    Planet = character_info['originPlanet']\n",
    "    print(f\"originPlanet {Planet['name']}\")"
   ]
  },
  {
   "cell_type": "code",
   "execution_count": null,
   "id": "0b852052-0e95-4de7-a42f-a31848f8d28d",
   "metadata": {},
   "outputs": [],
   "source": []
  },
  {
   "cell_type": "code",
   "execution_count": 20,
   "id": "c5dec31c-8e61-4f9c-bd20-ec6c5ee088ac",
   "metadata": {},
   "outputs": [],
   "source": [
    "def get_name(name):\n",
    "    base_url = \"https://dragonball-api.com/api/characters\"\n",
    "    response = requests.get(base_url)\n",
    "\n",
    "    if response.status_code == 200:\n",
    "        data = response.json()\n",
    "        characters = data['items']  # or 'data', depending on the actual key\n",
    "\n",
    "        for char in characters:\n",
    "            if char['name'].lower() == name.lower():\n",
    "                return char\n",
    "        print(\"Character not found\")\n",
    "        print(f'{name}')\n",
    "    else:\n",
    "        print(\"Error:\", response.status_code)\n"
   ]
  },
  {
   "cell_type": "code",
   "execution_count": 21,
   "id": "8a039292-c35a-49f0-8847-6992b2c564c5",
   "metadata": {},
   "outputs": [],
   "source": [
    "character = 'Gohan'\n"
   ]
  },
  {
   "cell_type": "code",
   "execution_count": 22,
   "id": "2a85a012-b8d7-4661-b992-61d1c75ffd5c",
   "metadata": {},
   "outputs": [],
   "source": [
    "character_info = get_name(character) "
   ]
  },
  {
   "cell_type": "code",
   "execution_count": 23,
   "id": "0420088b-1f6f-4741-bc5c-1dcae5fc033c",
   "metadata": {},
   "outputs": [],
   "source": [
    "character_id = get_character_info(character_info['id']) "
   ]
  },
  {
   "cell_type": "code",
   "execution_count": 24,
   "id": "15db1b48-2e7d-4a51-99a1-8b2df0dfff16",
   "metadata": {},
   "outputs": [
    {
     "data": {
      "text/plain": [
       "{'id': 10,\n",
       " 'name': 'Gohan',\n",
       " 'ki': '45.000.000',\n",
       " 'maxKi': '40 septillion',\n",
       " 'race': 'Saiyan',\n",
       " 'gender': 'Male',\n",
       " 'description': 'Son Gohanda en su tiempo en España, o simplemente Gohan en Hispanoamérica, es uno de los personajes principales de los arcos argumentales de Dragon Ball Z, Dragon Ball Super y Dragon Ball GT. Es un mestizo entre saiyano y humano terrícola. Es el primer hijo de Son Goku y Chi-Chi, hermano mayor de Son Goten, esposo de Videl y padre de Pan.',\n",
       " 'image': 'https://dragonball-api.com/characters/gohan.webp',\n",
       " 'affiliation': 'Z Fighter',\n",
       " 'deletedAt': None}"
      ]
     },
     "execution_count": 24,
     "metadata": {},
     "output_type": "execute_result"
    }
   ],
   "source": [
    "character_info"
   ]
  },
  {
   "cell_type": "code",
   "execution_count": 25,
   "id": "b7c20246-6d79-4244-af34-4c90a60d446f",
   "metadata": {},
   "outputs": [
    {
     "name": "stdout",
     "output_type": "stream",
     "text": [
      "Name Gohan\n",
      "ID 10\n",
      "Ki 45.000.000\n",
      "race Saiyan\n",
      "originPlanet Tierra\n"
     ]
    }
   ],
   "source": [
    "if character_id:\n",
    "    print(f\"Name {character_id['name']}\")\n",
    "    print(f\"ID {character_id['id']}\")\n",
    "    print(f\"Ki {character_id['ki']}\")\n",
    "    print(f\"race {character_id['race']}\")\n",
    "    Planet = character_id['originPlanet']\n",
    "    print(f\"originPlanet {Planet['name']}\")"
   ]
  },
  {
   "cell_type": "code",
   "execution_count": 37,
   "id": "43526609-0447-41c2-9503-68dde4de222f",
   "metadata": {},
   "outputs": [],
   "source": [
    "def versus(name, opp):\n",
    "    char1= get_name(name)\n",
    "    char2= get_name(opp)\n",
    "    base_url = \"https://dragonball-api.com/api/characters\"\n",
    "    response = requests.get(base_url)\n",
    "\n",
    "    \n",
    "    try:\n",
    "        ki1 = float(char1.get(\"ki\", 0).replace(\".\", \"\"))\n",
    "    except:\n",
    "        ki1 = 0\n",
    "\n",
    "    try:\n",
    "        ki2 = float(char2.get(\"ki\", 0).replace(\".\", \"\"))\n",
    "    except:\n",
    "        ki2 = 0\n",
    "\n",
    "    if ki1 > ki2:\n",
    "       print(f\"🏆 {name1} wins!\")\n",
    "    elif name1 < name2:\n",
    "       print(f\"🏆 {name2} wins!\")\n",
    "    else: \n",
    "       print(f\"Its a draw\")\n"
   ]
  },
  {
   "cell_type": "code",
   "execution_count": 46,
   "id": "6878311a-3b66-4cb1-b8f0-e2f1d0105abf",
   "metadata": {},
   "outputs": [],
   "source": [
    "name1= 'Gohan'\n",
    "name2= 'Goku'\n"
   ]
  },
  {
   "cell_type": "code",
   "execution_count": 47,
   "id": "8c693028-3d1e-4cc3-8ce4-c477fd0b2049",
   "metadata": {},
   "outputs": [
    {
     "name": "stdout",
     "output_type": "stream",
     "text": [
      "🏆 Goku wins!\n"
     ]
    }
   ],
   "source": [
    "winner= versus(name1, name2)"
   ]
  },
  {
   "cell_type": "code",
   "execution_count": null,
   "id": "a26b712e-4148-43c6-9f6f-4871253bd7c6",
   "metadata": {},
   "outputs": [],
   "source": []
  },
  {
   "cell_type": "code",
   "execution_count": null,
   "id": "3bbb5d6d-f939-44a9-8af6-0a3e93f1206e",
   "metadata": {},
   "outputs": [],
   "source": []
  }
 ],
 "metadata": {
  "kernelspec": {
   "display_name": "Python 3 (ipykernel)",
   "language": "python",
   "name": "python3"
  },
  "language_info": {
   "codemirror_mode": {
    "name": "ipython",
    "version": 3
   },
   "file_extension": ".py",
   "mimetype": "text/x-python",
   "name": "python",
   "nbconvert_exporter": "python",
   "pygments_lexer": "ipython3",
   "version": "3.11.6"
  }
 },
 "nbformat": 4,
 "nbformat_minor": 5
}
